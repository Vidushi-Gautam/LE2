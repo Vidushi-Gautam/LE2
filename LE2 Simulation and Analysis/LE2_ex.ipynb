{
 "cells": [
  {
   "cell_type": "code",
   "execution_count": null,
   "id": "b84d34ce",
   "metadata": {
    "lines_to_next_cell": 2
   },
   "outputs": [],
   "source": [
    "get_ipython().run_line_magic('matplotlib', 'widget')"
   ]
  },
  {
   "cell_type": "code",
   "execution_count": null,
   "id": "6c8a8df0",
   "metadata": {
    "lines_to_next_cell": 2
   },
   "outputs": [],
   "source": [
    "\n",
    "\n",
    "pip install jsonpickle"
   ]
  },
  {
   "cell_type": "code",
   "execution_count": null,
   "id": "41469bce",
   "metadata": {
    "lines_to_next_cell": 2
   },
   "outputs": [],
   "source": [
    "\n",
    "\n",
    "pip install windrose"
   ]
  },
  {
   "cell_type": "code",
   "execution_count": null,
   "id": "f3704989",
   "metadata": {
    "lines_to_next_cell": 2
   },
   "outputs": [],
   "source": [
    "\n",
    "\n",
    "pip install simplekml"
   ]
  },
  {
   "cell_type": "code",
   "execution_count": null,
   "id": "25263581",
   "metadata": {
    "lines_to_next_cell": 2
   },
   "outputs": [],
   "source": [
    "\n",
    "\n",
    "from rocketpy import Environment, SolidMotor, Rocket, Flight, Function"
   ]
  },
  {
   "cell_type": "code",
   "execution_count": null,
   "id": "12e1f357",
   "metadata": {
    "lines_to_next_cell": 2
   },
   "outputs": [],
   "source": [
    "\n",
    "Env = Environment(\n",
    "    railLength=5.2, \n",
    "    latitude=32.9901, \n",
    "    longitude=-106.9751, \n",
    "    elevation=1400.556\n",
    ")"
   ]
  },
  {
   "cell_type": "code",
   "execution_count": null,
   "id": "8a56112d",
   "metadata": {
    "lines_to_next_cell": 2
   },
   "outputs": [],
   "source": [
    "\n",
    "\n",
    "import datetime\n",
    "\n",
    "tomorrow = datetime.date.today() + datetime.timedelta(days=1)\n",
    "\n",
    "Env.setDate((tomorrow.year, \n",
    "             tomorrow.month, \n",
    "             tomorrow.day, \n",
    "             12))  # Hour given in UTC time   "
   ]
  },
  {
   "cell_type": "code",
   "execution_count": null,
   "id": "f76461a7",
   "metadata": {
    "lines_to_next_cell": 2
   },
   "outputs": [],
   "source": [
    "Env.setAtmosphericModel(type=\"Forecast\", file=\"GFS\")"
   ]
  },
  {
   "cell_type": "code",
   "execution_count": null,
   "id": "c76005d5",
   "metadata": {
    "lines_to_next_cell": 2
   },
   "outputs": [],
   "source": [
    "\n",
    "\n",
    "Env.info()"
   ]
  },
  {
   "cell_type": "code",
   "execution_count": null,
   "id": "952d963a",
   "metadata": {
    "lines_to_next_cell": 2
   },
   "outputs": [],
   "source": [
    "M1939W = SolidMotor(\n",
    "    thrustSource=\"../RocketPy/data/motors/AeroTech_M1939W.eng\",\n",
    "    burnOut=6.2,                 \n",
    "    grainNumber=1,\n",
    "    grainSeparation=1 / 1000,\n",
    "    grainDensity=1715,\n",
    "    grainOuterRadius=45 / 1000,\n",
    "    grainInitialInnerRadius=25 / 1000,\n",
    "    grainInitialHeight=732 / 1000,\n",
    "    nozzleRadius=33 / 1000,\n",
    "    throatRadius=11 / 1000,      \n",
    "    interpolationMethod=\"linear\",\n",
    ")"
   ]
  },
  {
   "cell_type": "code",
   "execution_count": null,
   "id": "341224fa",
   "metadata": {
    "lines_to_next_cell": 2
   },
   "outputs": [],
   "source": [
    "\n",
    "\n",
    "M1939W.info()"
   ]
  },
  {
   "cell_type": "code",
   "execution_count": null,
   "id": "6cc3d48f",
   "metadata": {
    "lines_to_next_cell": 2
   },
   "outputs": [],
   "source": [
    "\n",
    "\n",
    "Calisto = Rocket(\n",
    "    motor=M1939W,\n",
    "    radius=0.0785,\n",
    "    mass=36.525 - 6.325,     # total dry: 30.2\n",
    "    inertiaI=22.060737,      #\n",
    "    inertiaZ=0.11227482,     #\n",
    "    distanceRocketNozzle=1.44969,    #\n",
    "    distanceRocketPropellant=1.344,  #\n",
    "    powerOffDrag=\"../RocketPy/data/calisto/powerOffDragCurveIREC.csv\",\n",
    "    powerOnDrag=\"../RocketPy/data/calisto/powerOnDragCurveIREC.csv\",\n",
    ")\n",
    "\n",
    "Calisto.setRailButtons([0.18, -1.4246, 60]) \n",
    "\n",
    "NoseCone = Calisto.addNose(length=0.762, kind=\"Von Karman\", distanceToCM=2.14)\n",
    "\n",
    "FinSet = Calisto.addTrapezoidalFins(\n",
    "    n=3,\n",
    "    rootChord =0.305,\n",
    "    tipChord=0.102,\n",
    "    span=0.152,\n",
    "    distanceToCM=-1.49,\n",
    "    sweepAngle=33.7\n",
    ")\n",
    "\n",
    "# Tail = Calisto.addTail(\n",
    "#     topRadius=0.157, bottomRadius=0.157, length=0.61, distanceToCM=-1.1081\n",
    "# )"
   ]
  },
  {
   "cell_type": "code",
   "execution_count": null,
   "id": "c4a238da",
   "metadata": {
    "lines_to_next_cell": 2
   },
   "outputs": [],
   "source": [
    "\n",
    "\n",
    "def drogueTrigger(p, y):\n",
    "    return True if y[5] < 0 else False\n",
    "\n",
    "def mainTrigger(p, y):\n",
    "    return True if y[5] < 0 and y[2] < 305 + 1400.556 else False\n",
    "\n",
    "Main = Calisto.addParachute('Main',\n",
    "                            CdS=23.146,\n",
    "                            trigger=mainTrigger,\n",
    "                            samplingRate=105,      #\n",
    "                            lag=1.5,               #\n",
    "                            noise=(0, 8.3, 0.5))   #\n",
    "\n",
    "Drogue = Calisto.addParachute('Drogue',\n",
    "                              CdS=1.44346,\n",
    "                              trigger=drogueTrigger,\n",
    "                              samplingRate=105,      #\n",
    "                              lag=1.5,               #\n",
    "                              noise=(0, 8.3, 0.5))   #\n",
    "\n",
    "\n",
    "#                             CdS=15.532,\n",
    "#                             CdS=2.4926,"
   ]
  },
  {
   "cell_type": "markdown",
   "id": "2161f1c8",
   "metadata": {
    "lines_to_next_cell": 2
   },
   "source": [
    "## Calisto.allInfo()"
   ]
  },
  {
   "cell_type": "code",
   "execution_count": null,
   "id": "9a8eaf7d",
   "metadata": {
    "lines_to_next_cell": 2
   },
   "outputs": [],
   "source": [
    "\n",
    "\n",
    "TestFlight = Flight(rocket=Calisto, environment=Env, inclination=85, heading=0)"
   ]
  },
  {
   "cell_type": "code",
   "execution_count": null,
   "id": "636e5378",
   "metadata": {
    "lines_to_next_cell": 2
   },
   "outputs": [],
   "source": [
    "\n",
    "\n",
    "TestFlight.allInfo()"
   ]
  },
  {
   "cell_type": "code",
   "execution_count": null,
   "id": "7891d3c7",
   "metadata": {},
   "outputs": [],
   "source": []
  },
  {
   "cell_type": "code",
   "execution_count": null,
   "id": "cb076b1d",
   "metadata": {},
   "outputs": [],
   "source": []
  },
  {
   "cell_type": "code",
   "execution_count": null,
   "id": "83cf6eba",
   "metadata": {},
   "outputs": [],
   "source": []
  }
 ],
 "metadata": {
  "jupytext": {
   "cell_metadata_filter": "-all",
   "encoding": "# coding: utf-8",
   "executable": "/usr/bin/env python",
   "notebook_metadata_filter": "-all",
   "text_representation": {
    "extension": ".py",
    "format_name": "percent"
   }
  },
  "kernelspec": {
   "display_name": "Python 3 (ipykernel)",
   "language": "python",
   "name": "python3"
  }
 },
 "nbformat": 4,
 "nbformat_minor": 5
}
