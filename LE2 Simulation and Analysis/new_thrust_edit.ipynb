{
 "cells": [
  {
   "cell_type": "code",
   "execution_count": null,
   "id": "549c3323",
   "metadata": {},
   "outputs": [],
   "source": [
    "pip install rocketcea"
   ]
  },
  {
   "cell_type": "code",
   "execution_count": null,
   "id": "74afb454",
   "metadata": {},
   "outputs": [],
   "source": [
    "pip install numpy"
   ]
  },
  {
   "cell_type": "code",
   "execution_count": null,
   "id": "384bcd62",
   "metadata": {},
   "outputs": [],
   "source": [
    "pip install scipy"
   ]
  },
  {
   "cell_type": "code",
   "execution_count": null,
   "id": "b7d26cb2",
   "metadata": {},
   "outputs": [],
   "source": [
    "pip install matplotlib"
   ]
  },
  {
   "cell_type": "code",
   "execution_count": null,
   "id": "67ae8dfc",
   "metadata": {},
   "outputs": [],
   "source": [
    "import rocketcea\n",
    "import numpy as np\n",
    "import scipy\n",
    "import matplotlib.pyplot as plt\n",
    "from rocketcea.cea_obj import CEA_Obj\n",
    "import matplotlib\n",
    "import pandas as pd\n",
    "#6330 to 6354\n",
    "class propellant:\n",
    "    def __init__(self,name, density, viscosity,tank_length, tank_radius, temperature):\n",
    "        self.density = density\n",
    "        self.viscosity = viscosity\n",
    "        self.temp = temperature\n",
    "        self.rad = tank_radius\n",
    "        self.length = tank_length\n",
    "        self.name = name\n",
    "        return None\n",
    "    def __str__(self) -> str:\n",
    "        return self.name"
   ]
  },
  {
   "cell_type": "markdown",
   "id": "9456eb22",
   "metadata": {},
   "source": [
    "adjust thrust calculation using hotfire attempt\n",
    "fO = lambda x : x >= 164\n",
    "fE = lambda x : x >= 191\n",
    "fC = lambda x : x >= 100\n",
    "data = pd.read_excel(r\"hotfire2_2023-04-16.xlsx\")"
   ]
  },
  {
   "cell_type": "code",
   "execution_count": null,
   "id": "675befcd",
   "metadata": {},
   "outputs": [],
   "source": [
    "ox_pres = [346.93,346.93,\n",
    "                    346.93,\n",
    "                    346.93,\n",
    "                    346.93,\n",
    "                    346.93,\n",
    "                    335.3,\n",
    "                    321.62,\n",
    "                    308.77,\n",
    "                    296.94,\n",
    "                    289.71,\n",
    "                    282.74,\n",
    "                    276.07,\n",
    "                    269.65,\n",
    "                    263.48,\n",
    "                    254.71,\n",
    "                    243.83,\n",
    "                    236.36,\n",
    "                    229.26,\n",
    "                    222.58,\n",
    "                    216.2,\n",
    "                    207.92,\n",
    "                    201.01]\n",
    "# ox_FR = np.array(data[\"FlowrateOx(Gal/s)\"])\n",
    "# eth_FR = np.array(data[\"FlowrateEth(Gal/s)\"])"
   ]
  },
  {
   "cell_type": "code",
   "execution_count": null,
   "id": "346e8330",
   "metadata": {},
   "outputs": [],
   "source": [
    "ox_pres = np.array(ox_pres) "
   ]
  },
  {
   "cell_type": "code",
   "execution_count": null,
   "id": "f3d02c94",
   "metadata": {},
   "outputs": [],
   "source": [
    "eth_pres = [422.23,\n",
    "            422.06,\n",
    "            397.65,\n",
    "            376.08,\n",
    "            355.84,\n",
    "            337.49,\n",
    "            321.29,\n",
    "            307.5,\n",
    "            295.36,\n",
    "            287.68,\n",
    "            280.47,\n",
    "            274.38,\n",
    "            268.39,\n",
    "            262.33,\n",
    "            257.1,\n",
    "            249.09,\n",
    "            239.81,\n",
    "            233,\n",
    "            227.43,\n",
    "            221.49,\n",
    "            216.04,\n",
    "            211.31,\n",
    "            205.93]\n",
    "eth_pres = np.array(eth_pres) - 27\n",
    "chamber_pres = [-2.34,\n",
    "-2.01,\n",
    "187.49,\n",
    "223.75,\n",
    "229.11,\n",
    "223.41,\n",
    "212.39,\n",
    "200.05,\n",
    "187.49,\n",
    "179.65,\n",
    "171.88,\n",
    "164.55,\n",
    "157.74,\n",
    "151.51,\n",
    "145.46,\n",
    "137.35,\n",
    "127.78,\n",
    "121.42,\n",
    "115.82,\n",
    "110.19,\n",
    "101.59,\n",
    "28.34,\n",
    "10.1]\n",
    "chamber_press = np.array(chamber_pres) + 4\n",
    "#implement simple grad descent(using scipy.optimize for now) to learn the best linear function of tank pressures to get chamber pressure"
   ]
  },
  {
   "cell_type": "code",
   "execution_count": null,
   "id": "b8101a46",
   "metadata": {},
   "outputs": [],
   "source": [
    "f = lambda a: a[0]*ox_pres + a[1]*eth_pres\n",
    "loss = lambda a: (np.linalg.norm((f(a) - chamber_pres)))**2\n",
    "a_star = scipy.optimize.minimize(loss,[0,0])\n",
    "a_star = a_star.x\n",
    "print(a_star)"
   ]
  },
  {
   "cell_type": "code",
   "execution_count": null,
   "id": "f90550a0",
   "metadata": {
    "lines_to_next_cell": 0
   },
   "outputs": [],
   "source": [
    "def calculate_thrust(ETH_volume, LOX_volume, LOX_tank_volume=0.00757, ETH_tank_volume=0.006926, Cd_Eth=[0.0000172046, 0.000010777], \n",
    "                     Cd_LOX=[0.0000258069, 0.0000113], pressure_ox=420, pressure_eth=420, P_chamber=300): \n",
    "    chamber = CEA_Obj(propName=\"\", oxName=\"LOX\", fuelName=\"C2H5OH\")  # initializes CEA object\n",
    "    output = []\n",
    "    h = 0.001\n",
    "    time = 3\n",
    "    n = int(time / h)\n",
    "    time_array = []\n",
    "\n",
    "    G2M3 = 0.00378541\n",
    "    f1 = 0.255 * G2M3 * 798\n",
    "    f3 = 0.023 * G2M3 * 1141\n",
    "    print(f1 + f3)\n",
    "    rho_lox = 1141\n",
    "    rho_eth = 798\n",
    "    psi_to_Pa = 6894.76\n",
    "\n",
    "    mdot = []\n",
    "    pE = []\n",
    "    pO = []\n",
    "    mO = []\n",
    "    mE = []\n",
    "    for i in range(n):\n",
    "        time_array.append(i * time / n)\n",
    "        pressure_ox = pressure_ox * 6894.76\n",
    "        pressure_eth = pressure_eth * 6894.76\n",
    "        P_chamber = P_chamber * 6894.76\n",
    "        \n",
    "        k_eth = (Cd_Eth[0] / Cd_Eth[1]) * (Cd_Eth[0] / Cd_Eth[1])\n",
    "        k_lox = (Cd_LOX[0] / Cd_LOX[1]) * (Cd_LOX[0] / Cd_LOX[1])\n",
    "        P_inj_LOX = (k_lox * pressure_ox + P_chamber) / (k_lox + 1)\n",
    "        P_inj_Eth = (k_eth * pressure_eth + P_chamber) / (k_eth + 1)\n",
    "        mdot_LOX = Cd_LOX[0] * np.sqrt(2 * rho_lox * (P_inj_LOX - P_chamber)) \n",
    "        mdot_Eth = Cd_Eth[0] * np.sqrt(2 * rho_eth * (P_inj_Eth - P_chamber))\n",
    "\n",
    "        # diffeq part for lox\n",
    "        pressure_ox = pressure_ox - h * (pressure_ox) * mdot_LOX / (rho_lox * (LOX_tank_volume - LOX_volume))\n",
    "        LOX_volume = LOX_volume - h * mdot_LOX / rho_lox\n",
    "        mO.append(LOX_volume * rho_lox)\n",
    "\n",
    "        # diffeq part for eth\n",
    "        pressure_eth = pressure_eth - h * (pressure_eth) * mdot_Eth / (rho_eth * (ETH_tank_volume - ETH_volume))\n",
    "        ETH_volume = ETH_volume - h * mdot_Eth / rho_eth\n",
    "        mE.append(ETH_volume * rho_eth)\n",
    "        P_chamber = a_star[0] * pressure_ox + a_star[1] * pressure_eth \n",
    "\n",
    "        # get thrust\n",
    "        pressure_ox = pressure_ox / 6894.76\n",
    "        pressure_eth = pressure_eth / 6894.76\n",
    "        P_chamber = P_chamber / 6894.76\n",
    "        thrust_val = chamber.estimate_Ambient_Isp(P_chamber, mdot_LOX / mdot_Eth, eps=1)[0]\n",
    "        thrust_val = 9.8 * thrust_val * (mdot_Eth + mdot_LOX)\n",
    "        output.append(thrust_val)\n",
    "        mdot.append(mdot_Eth + mdot_LOX)\n",
    "        print(f\"{time_array[i]} {thrust_val}\")\n",
    "        pE.append(pressure_eth)\n",
    "        pO.append(pressure_ox)\n",
    "\n",
    "        if mE[-1] <= 0 or mO[-1] <= 0:\n",
    "            break\n",
    "    \n",
    "    thrust_val = chamber.estimate_Ambient_Isp(325, f3 / f1, eps=1)[0]\n",
    "    thrust_val = 10 * thrust_val * (f3 + f1)\n",
    "    print(thrust_val)\n",
    "\n",
    "    output = np.array(output)\n",
    "    pE = np.array(pE)\n",
    "    pO = np.array(pO)\n",
    "    fig, axs = plt.subplots(3, 3)\n",
    "    axs[0, 0].plot(time_array, output)\n",
    "    axs[0, 0].set_title(\"thrust\")\n",
    "    axs[1, 0].plot(time_array, pE)\n",
    "    axs[1, 0].set_title(\"Press_ETH\")\n",
    "    axs[2, 0].plot(time_array, pO)\n",
    "    axs[2, 0].set_title(\"Press_LOX\")\n",
    "    axs[1, 1].plot(time_array, mE)\n",
    "    axs[1, 1].set_title(\"mass_ETH\")\n",
    "    axs[1, 2].plot(time_array, mO)\n",
    "    axs[1, 2].set_title(\"mass_LOX\")\n",
    "\n",
    "    sum_val = 0.5 * h * mdot[0] + 0.5 * h * mdot[-1]\n",
    "    for i in mdot[1:-1]:\n",
    "        sum_val += h * i\n",
    "    print(sum_val)\n",
    "\n",
    "    plt.show()\n",
    "\n",
    "calculate_thrust(2.5 / 798, 3.5 / 1141)\n"
   ]
  },
  {
   "cell_type": "code",
   "execution_count": null,
   "id": "ddb9fb5a",
   "metadata": {},
   "outputs": [],
   "source": []
  },
  {
   "cell_type": "code",
   "execution_count": null,
   "id": "8a728a99",
   "metadata": {},
   "outputs": [],
   "source": []
  },
  {
   "cell_type": "code",
   "execution_count": null,
   "id": "cff2e66f",
   "metadata": {},
   "outputs": [],
   "source": []
  },
  {
   "cell_type": "code",
   "execution_count": null,
   "id": "440bc090",
   "metadata": {
    "lines_to_next_cell": 2
   },
   "outputs": [],
   "source": []
  }
 ],
 "metadata": {
  "jupytext": {
   "cell_metadata_filter": "-all",
   "notebook_metadata_filter": "-all",
   "text_representation": {
    "extension": ".py",
    "format_name": "light"
   }
  },
  "kernelspec": {
   "display_name": "Python 3 (ipykernel)",
   "language": "python",
   "name": "python3"
  }
 },
 "nbformat": 4,
 "nbformat_minor": 5
}
